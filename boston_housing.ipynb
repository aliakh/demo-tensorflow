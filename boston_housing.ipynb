{
  "nbformat": 4,
  "nbformat_minor": 0,
  "metadata": {
    "colab": {
      "name": "boston_housing.ipynb",
      "version": "0.3.2",
      "provenance": [],
      "collapsed_sections": []
    },
    "kernelspec": {
      "name": "python2",
      "display_name": "Python 2"
    },
    "accelerator": "GPU"
  },
  "cells": [
    {
      "metadata": {
        "id": "eV16J6oUY-HN",
        "colab_type": "text"
      },
      "cell_type": "markdown",
      "source": [
        "# Boston Housing Dataset"
      ]
    },
    {
      "metadata": {
        "id": "AGOM1TUiKNdz",
        "colab_type": "code",
        "colab": {}
      },
      "cell_type": "code",
      "source": [
        "from __future__ import absolute_import\n",
        "from __future__ import division\n",
        "from __future__ import print_function\n",
        "\n",
        "from IPython import display\n",
        "import pandas as pd\n",
        "import tensorflow as tf\n",
        "\n",
        "pd.options.display.max_rows = 10\n",
        "pd.options.display.float_format = '{:.1f}'.format\n",
        "tf.logging.set_verbosity(tf.logging.ERROR)"
      ],
      "execution_count": 0,
      "outputs": []
    },
    {
      "metadata": {
        "id": "6wxGpiEzvYlq",
        "colab_type": "text"
      },
      "cell_type": "markdown",
      "source": [
        "1.\tCRIM - per capita crime rate by town\n",
        "2.\tZN - proportion of residential land zoned for lots over 25,000 sq.ft.\n",
        "3.\tINDUS - proportion of non-retail business acres per town.\n",
        "4.\t~~CHAS - Charles River dummy variable (1 if tract bounds river; 0 otherwise)~~\n",
        "5.\tNOX - nitric oxides concentration (parts per 10 million)\n",
        "6.\tRM - average number of rooms per dwelling\n",
        "7.\tAGE - proportion of owner-occupied units built prior to 1940\n",
        "8.\tDIS - weighted distances to five Boston employment centres\n",
        "9.\t~~RAD - index of accessibility to radial highways~~\n",
        "10.\tTAX - full-value property-tax rate per USD 10,000\n",
        "11.\tPTRATIO - pupil-teacher ratio by town\n",
        "12.\t~~B - 1000(Bk - 0.63)^2 where Bk is the proportion of blacks by town~~\n",
        "13.\t~~LSTAT - % lower status of the population~~\n",
        "14.\tMEDV - Median value of owner-occupied homes in USD 1000's\n",
        "\n"
      ]
    },
    {
      "metadata": {
        "id": "ba-KzK5hE7BI",
        "colab_type": "code",
        "colab": {
          "base_uri": "https://localhost:8080/",
          "height": 52
        },
        "outputId": "b10363cb-e71f-416a-c507-a634a9dfea27"
      },
      "cell_type": "code",
      "source": [
        "COLUMNS = [\"crim\", \"zn\", \"indus\", \"nox\", \"rm\", \"age\", \"dis\", \"tax\", \"ptratio\", \"medv\"]\n",
        "\n",
        "FEATURES = COLUMNS[:-1]\n",
        "TARGET = COLUMNS[-1]\n",
        "\n",
        "print(\"Features: {}\".format(FEATURES))\n",
        "print(\"Target: {}\".format(TARGET))"
      ],
      "execution_count": 2,
      "outputs": [
        {
          "output_type": "stream",
          "text": [
            "Features: ['crim', 'zn', 'indus', 'nox', 'rm', 'age', 'dis', 'tax', 'ptratio']\n",
            "Target: medv\n"
          ],
          "name": "stdout"
        }
      ]
    },
    {
      "metadata": {
        "id": "ZumkpXFUE5Ip",
        "colab_type": "code",
        "colab": {}
      },
      "cell_type": "code",
      "source": [
        "def my_input_fn(data_set, num_epochs=None, shuffle=True):\n",
        "    return tf.estimator.inputs.pandas_input_fn(\n",
        "        x=pd.DataFrame({f: data_set[f].values for f in FEATURES}),\n",
        "        y=pd.Series(data_set[TARGET].values),\n",
        "        num_epochs=num_epochs,\n",
        "        shuffle=shuffle)"
      ],
      "execution_count": 0,
      "outputs": []
    },
    {
      "metadata": {
        "id": "AzTn5EZ_E3Vx",
        "colab_type": "code",
        "colab": {
          "base_uri": "https://localhost:8080/",
          "height": 865
        },
        "outputId": "3496e8d6-9329-4e11-f89a-4737653058fb"
      },
      "cell_type": "code",
      "source": [
        "URL_PREFIX = \"https://raw.githubusercontent.com/tensorflow/tensorflow/master/tensorflow/examples/tutorials/input_fn/\"\n",
        "\n",
        "training_set = pd.read_csv(\n",
        "    URL_PREFIX+\"boston_train.csv\", \n",
        "    skipinitialspace=True,\n",
        "    skiprows=1, \n",
        "    names=COLUMNS)\n",
        "\n",
        "test_set = pd.read_csv(\n",
        "    URL_PREFIX+\"boston_test.csv\", \n",
        "    skipinitialspace=True,\n",
        "    skiprows=1, \n",
        "    names=COLUMNS)\n",
        "\n",
        "prediction_set = pd.read_csv(\n",
        "    URL_PREFIX+\"boston_predict.csv\", \n",
        "    skipinitialspace=True,\n",
        "    skiprows=1, \n",
        "    names=COLUMNS)\n",
        "\n",
        "print(\"Training set summary:\")\n",
        "display.display(training_set.describe())\n",
        "\n",
        "print(\"Test set summary:\")\n",
        "display.display(test_set.describe())\n",
        "\n",
        "print(\"Prediction set summary:\")\n",
        "display.display(prediction_set.describe())"
      ],
      "execution_count": 4,
      "outputs": [
        {
          "output_type": "stream",
          "text": [
            "Training set summary:\n"
          ],
          "name": "stdout"
        },
        {
          "output_type": "display_data",
          "data": {
            "text/plain": [
              "       crim    zn  indus   nox    rm   age   dis   tax  ptratio  medv\n",
              "count 400.0 400.0  400.0 400.0 400.0 400.0 400.0 400.0    400.0 400.0\n",
              "mean    3.9  11.3   11.4   0.6   6.3  69.1   3.8 411.7     18.5  22.6\n",
              "std     9.4  23.5    7.0   0.1   0.7  28.5   2.1 171.6      2.2   9.6\n",
              "min     0.0   0.0    0.5   0.4   3.6   2.9   1.1 187.0     12.6   5.0\n",
              "25%     0.1   0.0    5.2   0.4   5.9  44.9   2.1 277.0     17.4  16.6\n",
              "50%     0.3   0.0    9.7   0.5   6.2  78.8   3.2 332.0     19.1  21.4\n",
              "75%     3.7  12.5   18.1   0.6   6.6  94.6   5.1 666.0     20.2  25.0\n",
              "max    89.0 100.0   27.7   0.9   8.8 100.0  12.1 711.0     22.0  50.0"
            ],
            "text/html": [
              "<div>\n",
              "<style scoped>\n",
              "    .dataframe tbody tr th:only-of-type {\n",
              "        vertical-align: middle;\n",
              "    }\n",
              "\n",
              "    .dataframe tbody tr th {\n",
              "        vertical-align: top;\n",
              "    }\n",
              "\n",
              "    .dataframe thead th {\n",
              "        text-align: right;\n",
              "    }\n",
              "</style>\n",
              "<table border=\"1\" class=\"dataframe\">\n",
              "  <thead>\n",
              "    <tr style=\"text-align: right;\">\n",
              "      <th></th>\n",
              "      <th>crim</th>\n",
              "      <th>zn</th>\n",
              "      <th>indus</th>\n",
              "      <th>nox</th>\n",
              "      <th>rm</th>\n",
              "      <th>age</th>\n",
              "      <th>dis</th>\n",
              "      <th>tax</th>\n",
              "      <th>ptratio</th>\n",
              "      <th>medv</th>\n",
              "    </tr>\n",
              "  </thead>\n",
              "  <tbody>\n",
              "    <tr>\n",
              "      <th>count</th>\n",
              "      <td>400.0</td>\n",
              "      <td>400.0</td>\n",
              "      <td>400.0</td>\n",
              "      <td>400.0</td>\n",
              "      <td>400.0</td>\n",
              "      <td>400.0</td>\n",
              "      <td>400.0</td>\n",
              "      <td>400.0</td>\n",
              "      <td>400.0</td>\n",
              "      <td>400.0</td>\n",
              "    </tr>\n",
              "    <tr>\n",
              "      <th>mean</th>\n",
              "      <td>3.9</td>\n",
              "      <td>11.3</td>\n",
              "      <td>11.4</td>\n",
              "      <td>0.6</td>\n",
              "      <td>6.3</td>\n",
              "      <td>69.1</td>\n",
              "      <td>3.8</td>\n",
              "      <td>411.7</td>\n",
              "      <td>18.5</td>\n",
              "      <td>22.6</td>\n",
              "    </tr>\n",
              "    <tr>\n",
              "      <th>std</th>\n",
              "      <td>9.4</td>\n",
              "      <td>23.5</td>\n",
              "      <td>7.0</td>\n",
              "      <td>0.1</td>\n",
              "      <td>0.7</td>\n",
              "      <td>28.5</td>\n",
              "      <td>2.1</td>\n",
              "      <td>171.6</td>\n",
              "      <td>2.2</td>\n",
              "      <td>9.6</td>\n",
              "    </tr>\n",
              "    <tr>\n",
              "      <th>min</th>\n",
              "      <td>0.0</td>\n",
              "      <td>0.0</td>\n",
              "      <td>0.5</td>\n",
              "      <td>0.4</td>\n",
              "      <td>3.6</td>\n",
              "      <td>2.9</td>\n",
              "      <td>1.1</td>\n",
              "      <td>187.0</td>\n",
              "      <td>12.6</td>\n",
              "      <td>5.0</td>\n",
              "    </tr>\n",
              "    <tr>\n",
              "      <th>25%</th>\n",
              "      <td>0.1</td>\n",
              "      <td>0.0</td>\n",
              "      <td>5.2</td>\n",
              "      <td>0.4</td>\n",
              "      <td>5.9</td>\n",
              "      <td>44.9</td>\n",
              "      <td>2.1</td>\n",
              "      <td>277.0</td>\n",
              "      <td>17.4</td>\n",
              "      <td>16.6</td>\n",
              "    </tr>\n",
              "    <tr>\n",
              "      <th>50%</th>\n",
              "      <td>0.3</td>\n",
              "      <td>0.0</td>\n",
              "      <td>9.7</td>\n",
              "      <td>0.5</td>\n",
              "      <td>6.2</td>\n",
              "      <td>78.8</td>\n",
              "      <td>3.2</td>\n",
              "      <td>332.0</td>\n",
              "      <td>19.1</td>\n",
              "      <td>21.4</td>\n",
              "    </tr>\n",
              "    <tr>\n",
              "      <th>75%</th>\n",
              "      <td>3.7</td>\n",
              "      <td>12.5</td>\n",
              "      <td>18.1</td>\n",
              "      <td>0.6</td>\n",
              "      <td>6.6</td>\n",
              "      <td>94.6</td>\n",
              "      <td>5.1</td>\n",
              "      <td>666.0</td>\n",
              "      <td>20.2</td>\n",
              "      <td>25.0</td>\n",
              "    </tr>\n",
              "    <tr>\n",
              "      <th>max</th>\n",
              "      <td>89.0</td>\n",
              "      <td>100.0</td>\n",
              "      <td>27.7</td>\n",
              "      <td>0.9</td>\n",
              "      <td>8.8</td>\n",
              "      <td>100.0</td>\n",
              "      <td>12.1</td>\n",
              "      <td>711.0</td>\n",
              "      <td>22.0</td>\n",
              "      <td>50.0</td>\n",
              "    </tr>\n",
              "  </tbody>\n",
              "</table>\n",
              "</div>"
            ]
          },
          "metadata": {
            "tags": []
          }
        },
        {
          "output_type": "stream",
          "text": [
            "Test set summary:\n"
          ],
          "name": "stdout"
        },
        {
          "output_type": "display_data",
          "data": {
            "text/plain": [
              "       crim    zn  indus   nox    rm   age   dis   tax  ptratio  medv\n",
              "count 100.0 100.0  100.0 100.0 100.0 100.0 100.0 100.0    100.0 100.0\n",
              "mean    2.4  10.8   10.3   0.5   6.3  66.9   3.9 395.1     18.3  22.1\n",
              "std     4.6  22.3    6.2   0.1   0.6  26.5   2.1 154.1      2.2   7.5\n",
              "min     0.0   0.0    1.5   0.4   5.0   8.4   1.4 188.0     12.6   7.4\n",
              "25%     0.1   0.0    5.9   0.5   5.9  48.0   2.2 286.2     16.8  18.3\n",
              "50%     0.2   0.0    8.6   0.5   6.2  71.6   3.2 330.0     18.6  20.9\n",
              "75%     2.2  12.5   18.1   0.6   6.6  89.9   5.5 432.0     20.2  24.4\n",
              "max    22.6  82.5   25.6   0.9   8.7 100.0  10.6 666.0     22.0  50.0"
            ],
            "text/html": [
              "<div>\n",
              "<style scoped>\n",
              "    .dataframe tbody tr th:only-of-type {\n",
              "        vertical-align: middle;\n",
              "    }\n",
              "\n",
              "    .dataframe tbody tr th {\n",
              "        vertical-align: top;\n",
              "    }\n",
              "\n",
              "    .dataframe thead th {\n",
              "        text-align: right;\n",
              "    }\n",
              "</style>\n",
              "<table border=\"1\" class=\"dataframe\">\n",
              "  <thead>\n",
              "    <tr style=\"text-align: right;\">\n",
              "      <th></th>\n",
              "      <th>crim</th>\n",
              "      <th>zn</th>\n",
              "      <th>indus</th>\n",
              "      <th>nox</th>\n",
              "      <th>rm</th>\n",
              "      <th>age</th>\n",
              "      <th>dis</th>\n",
              "      <th>tax</th>\n",
              "      <th>ptratio</th>\n",
              "      <th>medv</th>\n",
              "    </tr>\n",
              "  </thead>\n",
              "  <tbody>\n",
              "    <tr>\n",
              "      <th>count</th>\n",
              "      <td>100.0</td>\n",
              "      <td>100.0</td>\n",
              "      <td>100.0</td>\n",
              "      <td>100.0</td>\n",
              "      <td>100.0</td>\n",
              "      <td>100.0</td>\n",
              "      <td>100.0</td>\n",
              "      <td>100.0</td>\n",
              "      <td>100.0</td>\n",
              "      <td>100.0</td>\n",
              "    </tr>\n",
              "    <tr>\n",
              "      <th>mean</th>\n",
              "      <td>2.4</td>\n",
              "      <td>10.8</td>\n",
              "      <td>10.3</td>\n",
              "      <td>0.5</td>\n",
              "      <td>6.3</td>\n",
              "      <td>66.9</td>\n",
              "      <td>3.9</td>\n",
              "      <td>395.1</td>\n",
              "      <td>18.3</td>\n",
              "      <td>22.1</td>\n",
              "    </tr>\n",
              "    <tr>\n",
              "      <th>std</th>\n",
              "      <td>4.6</td>\n",
              "      <td>22.3</td>\n",
              "      <td>6.2</td>\n",
              "      <td>0.1</td>\n",
              "      <td>0.6</td>\n",
              "      <td>26.5</td>\n",
              "      <td>2.1</td>\n",
              "      <td>154.1</td>\n",
              "      <td>2.2</td>\n",
              "      <td>7.5</td>\n",
              "    </tr>\n",
              "    <tr>\n",
              "      <th>min</th>\n",
              "      <td>0.0</td>\n",
              "      <td>0.0</td>\n",
              "      <td>1.5</td>\n",
              "      <td>0.4</td>\n",
              "      <td>5.0</td>\n",
              "      <td>8.4</td>\n",
              "      <td>1.4</td>\n",
              "      <td>188.0</td>\n",
              "      <td>12.6</td>\n",
              "      <td>7.4</td>\n",
              "    </tr>\n",
              "    <tr>\n",
              "      <th>25%</th>\n",
              "      <td>0.1</td>\n",
              "      <td>0.0</td>\n",
              "      <td>5.9</td>\n",
              "      <td>0.5</td>\n",
              "      <td>5.9</td>\n",
              "      <td>48.0</td>\n",
              "      <td>2.2</td>\n",
              "      <td>286.2</td>\n",
              "      <td>16.8</td>\n",
              "      <td>18.3</td>\n",
              "    </tr>\n",
              "    <tr>\n",
              "      <th>50%</th>\n",
              "      <td>0.2</td>\n",
              "      <td>0.0</td>\n",
              "      <td>8.6</td>\n",
              "      <td>0.5</td>\n",
              "      <td>6.2</td>\n",
              "      <td>71.6</td>\n",
              "      <td>3.2</td>\n",
              "      <td>330.0</td>\n",
              "      <td>18.6</td>\n",
              "      <td>20.9</td>\n",
              "    </tr>\n",
              "    <tr>\n",
              "      <th>75%</th>\n",
              "      <td>2.2</td>\n",
              "      <td>12.5</td>\n",
              "      <td>18.1</td>\n",
              "      <td>0.6</td>\n",
              "      <td>6.6</td>\n",
              "      <td>89.9</td>\n",
              "      <td>5.5</td>\n",
              "      <td>432.0</td>\n",
              "      <td>20.2</td>\n",
              "      <td>24.4</td>\n",
              "    </tr>\n",
              "    <tr>\n",
              "      <th>max</th>\n",
              "      <td>22.6</td>\n",
              "      <td>82.5</td>\n",
              "      <td>25.6</td>\n",
              "      <td>0.9</td>\n",
              "      <td>8.7</td>\n",
              "      <td>100.0</td>\n",
              "      <td>10.6</td>\n",
              "      <td>666.0</td>\n",
              "      <td>22.0</td>\n",
              "      <td>50.0</td>\n",
              "    </tr>\n",
              "  </tbody>\n",
              "</table>\n",
              "</div>"
            ]
          },
          "metadata": {
            "tags": []
          }
        },
        {
          "output_type": "stream",
          "text": [
            "Prediction set summary:\n"
          ],
          "name": "stdout"
        },
        {
          "output_type": "display_data",
          "data": {
            "text/plain": [
              "       crim   zn  indus  nox  rm  age  dis   tax  ptratio  medv\n",
              "count   6.0  6.0    6.0  6.0 6.0  6.0  6.0   6.0      6.0   0.0\n",
              "mean    2.3 22.2    9.4  0.6 6.4 60.4  4.3 399.0     19.2   nan\n",
              "std     3.5 29.6    7.3  0.1 0.7 32.4  2.2 208.7      0.9   nan\n",
              "min     0.0  0.0    2.2  0.4 5.4 15.8  1.7 222.0     18.3   nan\n",
              "25%     0.1  0.0    3.5  0.5 5.9 41.7  2.8 260.0     18.4   nan\n",
              "50%     0.2 12.5    7.5  0.5 6.5 57.5  4.0 294.0     19.0   nan\n",
              "75%     3.9 31.0   16.1  0.7 7.0 86.8  5.1 575.5     20.1   nan\n",
              "max     8.2 75.0   18.1  0.7 7.2 98.9  8.0 666.0     20.2   nan"
            ],
            "text/html": [
              "<div>\n",
              "<style scoped>\n",
              "    .dataframe tbody tr th:only-of-type {\n",
              "        vertical-align: middle;\n",
              "    }\n",
              "\n",
              "    .dataframe tbody tr th {\n",
              "        vertical-align: top;\n",
              "    }\n",
              "\n",
              "    .dataframe thead th {\n",
              "        text-align: right;\n",
              "    }\n",
              "</style>\n",
              "<table border=\"1\" class=\"dataframe\">\n",
              "  <thead>\n",
              "    <tr style=\"text-align: right;\">\n",
              "      <th></th>\n",
              "      <th>crim</th>\n",
              "      <th>zn</th>\n",
              "      <th>indus</th>\n",
              "      <th>nox</th>\n",
              "      <th>rm</th>\n",
              "      <th>age</th>\n",
              "      <th>dis</th>\n",
              "      <th>tax</th>\n",
              "      <th>ptratio</th>\n",
              "      <th>medv</th>\n",
              "    </tr>\n",
              "  </thead>\n",
              "  <tbody>\n",
              "    <tr>\n",
              "      <th>count</th>\n",
              "      <td>6.0</td>\n",
              "      <td>6.0</td>\n",
              "      <td>6.0</td>\n",
              "      <td>6.0</td>\n",
              "      <td>6.0</td>\n",
              "      <td>6.0</td>\n",
              "      <td>6.0</td>\n",
              "      <td>6.0</td>\n",
              "      <td>6.0</td>\n",
              "      <td>0.0</td>\n",
              "    </tr>\n",
              "    <tr>\n",
              "      <th>mean</th>\n",
              "      <td>2.3</td>\n",
              "      <td>22.2</td>\n",
              "      <td>9.4</td>\n",
              "      <td>0.6</td>\n",
              "      <td>6.4</td>\n",
              "      <td>60.4</td>\n",
              "      <td>4.3</td>\n",
              "      <td>399.0</td>\n",
              "      <td>19.2</td>\n",
              "      <td>nan</td>\n",
              "    </tr>\n",
              "    <tr>\n",
              "      <th>std</th>\n",
              "      <td>3.5</td>\n",
              "      <td>29.6</td>\n",
              "      <td>7.3</td>\n",
              "      <td>0.1</td>\n",
              "      <td>0.7</td>\n",
              "      <td>32.4</td>\n",
              "      <td>2.2</td>\n",
              "      <td>208.7</td>\n",
              "      <td>0.9</td>\n",
              "      <td>nan</td>\n",
              "    </tr>\n",
              "    <tr>\n",
              "      <th>min</th>\n",
              "      <td>0.0</td>\n",
              "      <td>0.0</td>\n",
              "      <td>2.2</td>\n",
              "      <td>0.4</td>\n",
              "      <td>5.4</td>\n",
              "      <td>15.8</td>\n",
              "      <td>1.7</td>\n",
              "      <td>222.0</td>\n",
              "      <td>18.3</td>\n",
              "      <td>nan</td>\n",
              "    </tr>\n",
              "    <tr>\n",
              "      <th>25%</th>\n",
              "      <td>0.1</td>\n",
              "      <td>0.0</td>\n",
              "      <td>3.5</td>\n",
              "      <td>0.5</td>\n",
              "      <td>5.9</td>\n",
              "      <td>41.7</td>\n",
              "      <td>2.8</td>\n",
              "      <td>260.0</td>\n",
              "      <td>18.4</td>\n",
              "      <td>nan</td>\n",
              "    </tr>\n",
              "    <tr>\n",
              "      <th>50%</th>\n",
              "      <td>0.2</td>\n",
              "      <td>12.5</td>\n",
              "      <td>7.5</td>\n",
              "      <td>0.5</td>\n",
              "      <td>6.5</td>\n",
              "      <td>57.5</td>\n",
              "      <td>4.0</td>\n",
              "      <td>294.0</td>\n",
              "      <td>19.0</td>\n",
              "      <td>nan</td>\n",
              "    </tr>\n",
              "    <tr>\n",
              "      <th>75%</th>\n",
              "      <td>3.9</td>\n",
              "      <td>31.0</td>\n",
              "      <td>16.1</td>\n",
              "      <td>0.7</td>\n",
              "      <td>7.0</td>\n",
              "      <td>86.8</td>\n",
              "      <td>5.1</td>\n",
              "      <td>575.5</td>\n",
              "      <td>20.1</td>\n",
              "      <td>nan</td>\n",
              "    </tr>\n",
              "    <tr>\n",
              "      <th>max</th>\n",
              "      <td>8.2</td>\n",
              "      <td>75.0</td>\n",
              "      <td>18.1</td>\n",
              "      <td>0.7</td>\n",
              "      <td>7.2</td>\n",
              "      <td>98.9</td>\n",
              "      <td>8.0</td>\n",
              "      <td>666.0</td>\n",
              "      <td>20.2</td>\n",
              "      <td>nan</td>\n",
              "    </tr>\n",
              "  </tbody>\n",
              "</table>\n",
              "</div>"
            ]
          },
          "metadata": {
            "tags": []
          }
        }
      ]
    },
    {
      "metadata": {
        "id": "TECIh6OLEzrY",
        "colab_type": "code",
        "colab": {}
      },
      "cell_type": "code",
      "source": [
        "my_feature_columns = [tf.feature_column.numeric_column(f) for f in FEATURES]"
      ],
      "execution_count": 0,
      "outputs": []
    },
    {
      "metadata": {
        "id": "k6tgw1VpExmR",
        "colab_type": "code",
        "colab": {}
      },
      "cell_type": "code",
      "source": [
        "regressor = tf.estimator.DNNRegressor(\n",
        "    feature_columns=my_feature_columns,\n",
        "    hidden_units=[10, 10],\n",
        "    model_dir=\"/tmp/boston_housing\")"
      ],
      "execution_count": 0,
      "outputs": []
    },
    {
      "metadata": {
        "id": "i0PcytLEHIGZ",
        "colab_type": "code",
        "colab": {
          "base_uri": "https://localhost:8080/",
          "height": 35
        },
        "outputId": "b694a665-b5d6-4eb5-ccb3-9bd010a4238b"
      },
      "cell_type": "code",
      "source": [
        "regressor.train(input_fn=my_input_fn(training_set), steps=5000)"
      ],
      "execution_count": 7,
      "outputs": [
        {
          "output_type": "execute_result",
          "data": {
            "text/plain": [
              "<tensorflow.python.estimator.canned.dnn.DNNRegressor at 0x7f75aebc88d0>"
            ]
          },
          "metadata": {
            "tags": []
          },
          "execution_count": 7
        }
      ]
    },
    {
      "metadata": {
        "id": "fw2mlmwuEs2R",
        "colab_type": "code",
        "colab": {
          "base_uri": "https://localhost:8080/",
          "height": 52
        },
        "outputId": "18203ce8-d93e-471c-f9d7-9554ce6ac88c"
      },
      "cell_type": "code",
      "source": [
        "evaluation = regressor.evaluate(input_fn=my_input_fn(test_set, num_epochs=1, shuffle=False))\n",
        "\n",
        "print(\"Evaluation: {}\".format(evaluation))\n",
        "print(\"Loss: {0:f}\".format(evaluation[\"loss\"]))"
      ],
      "execution_count": 8,
      "outputs": [
        {
          "output_type": "stream",
          "text": [
            "Evaluation: {'average_loss': 12.271619, 'global_step': 5000, 'loss': 1227.1619}\n",
            "Loss: 1227.161865\n"
          ],
          "name": "stdout"
        }
      ]
    },
    {
      "metadata": {
        "id": "GiJjCEyCEoc5",
        "colab_type": "code",
        "colab": {
          "base_uri": "https://localhost:8080/",
          "height": 124
        },
        "outputId": "8590e11a-5e21-4fa3-854e-c5e7d1b4c22a"
      },
      "cell_type": "code",
      "source": [
        "predictions = regressor.predict(input_fn=my_input_fn(prediction_set, num_epochs=1, shuffle=False))\n",
        "\n",
        "for prediction in predictions:\n",
        "    print(\"Prediction: {}\".format(prediction))"
      ],
      "execution_count": 9,
      "outputs": [
        {
          "output_type": "stream",
          "text": [
            "Prediction: {'predictions': array([36.164463], dtype=float32)}\n",
            "Prediction: {'predictions': array([18.884136], dtype=float32)}\n",
            "Prediction: {'predictions': array([22.6753], dtype=float32)}\n",
            "Prediction: {'predictions': array([36.28027], dtype=float32)}\n",
            "Prediction: {'predictions': array([15.057931], dtype=float32)}\n",
            "Prediction: {'predictions': array([18.617287], dtype=float32)}\n"
          ],
          "name": "stdout"
        }
      ]
    }
  ]
}