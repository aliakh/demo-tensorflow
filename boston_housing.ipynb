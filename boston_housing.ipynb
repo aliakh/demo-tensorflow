{
  "nbformat": 4,
  "nbformat_minor": 0,
  "metadata": {
    "colab": {
      "name": "boston_housing.ipynb",
      "version": "0.3.2",
      "provenance": [],
      "collapsed_sections": []
    }
  },
  "cells": [
    {
      "metadata": {
        "id": "eV16J6oUY-HN",
        "colab_type": "text"
      },
      "cell_type": "markdown",
      "source": [
        "# Boston Housing Dataset"
      ]
    },
    {
      "metadata": {
        "id": "J2kqX6VZTHUy",
        "colab_type": "text"
      },
      "cell_type": "markdown",
      "source": [
        "## Setup\n"
      ]
    },
    {
      "metadata": {
        "id": "AGOM1TUiKNdz",
        "colab_type": "code",
        "colab": {}
      },
      "cell_type": "code",
      "source": [
        "from __future__ import absolute_import\n",
        "from __future__ import division\n",
        "from __future__ import print_function\n",
        "\n",
        "import itertools\n",
        "\n",
        "import pandas as pd\n",
        "import tensorflow as tf\n",
        "\n",
        "tf.logging.set_verbosity(tf.logging.ERROR)"
      ],
      "execution_count": 0,
      "outputs": []
    },
    {
      "metadata": {
        "id": "ba-KzK5hE7BI",
        "colab_type": "code",
        "colab": {}
      },
      "cell_type": "code",
      "source": [
        "COLUMNS = [\"crim\", \"zn\", \"indus\", \"nox\", \"rm\", \"age\", \"dis\", \"tax\", \"ptratio\", \"medv\"]\n",
        "#FEATURES = [\"crim\", \"zn\", \"indus\", \"nox\", \"rm\", \"age\", \"dis\", \"tax\", \"ptratio\"]\n",
        "#LABEL = \"medv\"\n",
        "\n",
        "FEATURES = COLUMNS[:-1]\n",
        "LABEL = COLUMNS[-1]\n",
        "\n",
        "print(\"Features: {}\".format(FEATURES))\n",
        "print(\"Label: {}\".format(LABEL))"
      ],
      "execution_count": 0,
      "outputs": []
    },
    {
      "metadata": {
        "id": "ZumkpXFUE5Ip",
        "colab_type": "code",
        "colab": {}
      },
      "cell_type": "code",
      "source": [
        "def get_input_fn(data_set, num_epochs=None, shuffle=True):\n",
        "  return tf.estimator.inputs.pandas_input_fn(\n",
        "      x=pd.DataFrame({k: data_set[k].values for k in FEATURES}),\n",
        "      y=pd.Series(data_set[LABEL].values),\n",
        "      num_epochs=num_epochs,\n",
        "      shuffle=shuffle)"
      ],
      "execution_count": 0,
      "outputs": []
    },
    {
      "metadata": {
        "id": "AzTn5EZ_E3Vx",
        "colab_type": "code",
        "colab": {}
      },
      "cell_type": "code",
      "source": [
        "url_prefix = \"https://raw.githubusercontent.com/tensorflow/tensorflow/master/tensorflow/examples/tutorials/input_fn/\"\n",
        "\n",
        "training_set = pd.read_csv(\n",
        "    url_prefix+\"boston_train.csv\", \n",
        "    skipinitialspace=True,\n",
        "    skiprows=1, \n",
        "    names=COLUMNS)\n",
        "\n",
        "test_set = pd.read_csv(\n",
        "    url_prefix+\"boston_test.csv\", \n",
        "    skipinitialspace=True,\n",
        "    skiprows=1, \n",
        "    names=COLUMNS)\n",
        "\n",
        "prediction_set = pd.read_csv(\n",
        "    url_prefix+\"boston_predict.csv\", \n",
        "    skipinitialspace=True,\n",
        "    skiprows=1, \n",
        "    names=COLUMNS)"
      ],
      "execution_count": 0,
      "outputs": []
    },
    {
      "metadata": {
        "id": "TECIh6OLEzrY",
        "colab_type": "code",
        "colab": {}
      },
      "cell_type": "code",
      "source": [
        "feature_cols = [tf.feature_column.numeric_column(k) for k in FEATURES]"
      ],
      "execution_count": 0,
      "outputs": []
    },
    {
      "metadata": {
        "id": "k6tgw1VpExmR",
        "colab_type": "code",
        "colab": {}
      },
      "cell_type": "code",
      "source": [
        "regressor = tf.estimator.DNNRegressor(\n",
        "    feature_columns=feature_cols,\n",
        "    hidden_units=[10, 10],\n",
        "    model_dir=\"/tmp/boston_housing\")\n",
        "\n",
        "regressor.train(input_fn=get_input_fn(training_set), steps=5000)"
      ],
      "execution_count": 0,
      "outputs": []
    },
    {
      "metadata": {
        "id": "fw2mlmwuEs2R",
        "colab_type": "code",
        "colab": {}
      },
      "cell_type": "code",
      "source": [
        "evaluation = regressor.evaluate(\n",
        "    input_fn=get_input_fn(test_set, num_epochs=1, shuffle=False))\n",
        "\n",
        "print(\"Evaluation: {}\".format(evaluation))\n",
        "\n",
        "loss = evaluation[\"loss\"]\n",
        "print(\"Loss: {0:f}\".format(loss))"
      ],
      "execution_count": 0,
      "outputs": []
    },
    {
      "metadata": {
        "id": "GiJjCEyCEoc5",
        "colab_type": "code",
        "colab": {}
      },
      "cell_type": "code",
      "source": [
        "predictions = regressor.predict(\n",
        "    input_fn=get_input_fn(prediction_set, num_epochs=1, shuffle=False))\n",
        "\n",
        "for prediction in predictions:\n",
        "  print(\"Prediction {}\".format(prediction))"
      ],
      "execution_count": 0,
      "outputs": []
    }
  ]
}