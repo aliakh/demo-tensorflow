{
  "nbformat": 4,
  "nbformat_minor": 0,
  "metadata": {
    "colab": {
      "name": "boston_housing.ipynb",
      "version": "0.3.2",
      "provenance": [],
      "collapsed_sections": []
    },
    "kernelspec": {
      "name": "python2",
      "display_name": "Python 2"
    },
    "accelerator": "GPU"
  },
  "cells": [
    {
      "metadata": {
        "id": "eV16J6oUY-HN",
        "colab_type": "text"
      },
      "cell_type": "markdown",
      "source": [
        "# Boston Housing Dataset"
      ]
    },
    {
      "metadata": {
        "id": "AGOM1TUiKNdz",
        "colab_type": "code",
        "colab": {}
      },
      "cell_type": "code",
      "source": [
        "from __future__ import absolute_import\n",
        "from __future__ import division\n",
        "from __future__ import print_function\n",
        "\n",
        "import pandas as pd\n",
        "import tensorflow as tf\n",
        "\n",
        "tf.logging.set_verbosity(tf.logging.ERROR)"
      ],
      "execution_count": 0,
      "outputs": []
    },
    {
      "metadata": {
        "id": "Q4BcMVUEo3AD",
        "colab_type": "text"
      },
      "cell_type": "markdown",
      "source": [
        "1.\tCRIM - per capita crime rate by town\n",
        "2.\tZN - proportion of residential land zoned for lots over 25,000 sq.ft.\n",
        "3.\tINDUS - proportion of non-retail business acres per town.\n",
        "4.\tCHAS - Charles River dummy variable (1 if tract bounds river; 0 otherwise)\n",
        "5.\tNOX - nitric oxides concentration (parts per 10 million)\n",
        "6.\tRM - average number of rooms per dwelling\n",
        "7.\tAGE - proportion of owner-occupied units built prior to 1940\n",
        "8.\tDIS - weighted distances to five Boston employment centres\n",
        "9.\tRAD - index of accessibility to radial highways\n",
        "10.\tTAX - full-value property-tax rate per USD 10,000\n",
        "11.\tPTRATIO - pupil-teacher ratio by town\n",
        "12.\tB - 1000(Bk - 0.63)^2 where Bk is the proportion of blacks by town\n",
        "13.\tLSTAT - % lower status of the population\n",
        "14.\tMEDV - Median value of owner-occupied homes in USD 1000's\n",
        "\n"
      ]
    },
    {
      "metadata": {
        "id": "ba-KzK5hE7BI",
        "colab_type": "code",
        "colab": {
          "base_uri": "https://localhost:8080/",
          "height": 52
        },
        "outputId": "c8df3665-5eb8-43b9-a62e-0cc1f6044c90"
      },
      "cell_type": "code",
      "source": [
        "COLUMNS = [\"crim\", \"zn\", \"indus\", \"nox\", \"rm\", \"age\", \"dis\", \"tax\", \"ptratio\", \"medv\"]\n",
        "\n",
        "FEATURES = COLUMNS[:-1]\n",
        "LABEL = COLUMNS[-1]\n",
        "\n",
        "print(\"Features: {}\".format(FEATURES))\n",
        "print(\"Label: {}\".format(LABEL))"
      ],
      "execution_count": 11,
      "outputs": [
        {
          "output_type": "stream",
          "text": [
            "Features: ['crim', 'zn', 'indus', 'nox', 'rm', 'age', 'dis', 'tax', 'ptratio']\n",
            "Label: medv\n"
          ],
          "name": "stdout"
        }
      ]
    },
    {
      "metadata": {
        "id": "ZumkpXFUE5Ip",
        "colab_type": "code",
        "colab": {}
      },
      "cell_type": "code",
      "source": [
        "def my_input_fn(data_set, num_epochs=None, shuffle=True):\n",
        "    return tf.estimator.inputs.pandas_input_fn(\n",
        "        x=pd.DataFrame({my_feature: data_set[my_feature].values for my_feature in FEATURES}),\n",
        "        y=pd.Series(data_set[LABEL].values),\n",
        "        num_epochs=num_epochs,\n",
        "        shuffle=shuffle)"
      ],
      "execution_count": 0,
      "outputs": []
    },
    {
      "metadata": {
        "id": "AzTn5EZ_E3Vx",
        "colab_type": "code",
        "colab": {}
      },
      "cell_type": "code",
      "source": [
        "URL_PREFIX = \"https://raw.githubusercontent.com/tensorflow/tensorflow/master/tensorflow/examples/tutorials/input_fn/\"\n",
        "\n",
        "training_set = pd.read_csv(\n",
        "    URL_PREFIX+\"boston_train.csv\", \n",
        "    skipinitialspace=True,\n",
        "    skiprows=1, \n",
        "    names=COLUMNS)\n",
        "\n",
        "test_set = pd.read_csv(\n",
        "    URL_PREFIX+\"boston_test.csv\", \n",
        "    skipinitialspace=True,\n",
        "    skiprows=1, \n",
        "    names=COLUMNS)\n",
        "\n",
        "prediction_set = pd.read_csv(\n",
        "    URL_PREFIX+\"boston_predict.csv\", \n",
        "    skipinitialspace=True,\n",
        "    skiprows=1, \n",
        "    names=COLUMNS)"
      ],
      "execution_count": 0,
      "outputs": []
    },
    {
      "metadata": {
        "id": "TECIh6OLEzrY",
        "colab_type": "code",
        "colab": {}
      },
      "cell_type": "code",
      "source": [
        "my_feature_columns = [tf.feature_column.numeric_column(my_feature) for my_feature in FEATURES]"
      ],
      "execution_count": 0,
      "outputs": []
    },
    {
      "metadata": {
        "id": "k6tgw1VpExmR",
        "colab_type": "code",
        "colab": {}
      },
      "cell_type": "code",
      "source": [
        "regressor = tf.estimator.DNNRegressor(\n",
        "    feature_columns=my_feature_columns,\n",
        "    hidden_units=[10, 10],\n",
        "    model_dir=\"/tmp/boston_housing\")"
      ],
      "execution_count": 0,
      "outputs": []
    },
    {
      "metadata": {
        "id": "i0PcytLEHIGZ",
        "colab_type": "code",
        "colab": {
          "base_uri": "https://localhost:8080/",
          "height": 35
        },
        "outputId": "e68ccf3a-002a-48d4-e561-650f9b08832f"
      },
      "cell_type": "code",
      "source": [
        "regressor.train(input_fn=my_input_fn(training_set), steps=5000)"
      ],
      "execution_count": 16,
      "outputs": [
        {
          "output_type": "execute_result",
          "data": {
            "text/plain": [
              "<tensorflow.python.estimator.canned.dnn.DNNRegressor at 0x7febab7341d0>"
            ]
          },
          "metadata": {
            "tags": []
          },
          "execution_count": 16
        }
      ]
    },
    {
      "metadata": {
        "id": "fw2mlmwuEs2R",
        "colab_type": "code",
        "colab": {
          "base_uri": "https://localhost:8080/",
          "height": 52
        },
        "outputId": "9b2cba8f-6c7d-4ffe-98aa-9c14319c6725"
      },
      "cell_type": "code",
      "source": [
        "evaluation = regressor.evaluate(input_fn=my_input_fn(test_set, num_epochs=1, shuffle=False))\n",
        "\n",
        "print(\"Evaluation: {}\".format(evaluation))\n",
        "print(\"Loss: {0:f}\".format(evaluation[\"loss\"]))"
      ],
      "execution_count": 17,
      "outputs": [
        {
          "output_type": "stream",
          "text": [
            "Evaluation: {'average_loss': 15.496426, 'global_step': 10000, 'loss': 1549.6426}\n",
            "Loss: 1549.642578\n"
          ],
          "name": "stdout"
        }
      ]
    },
    {
      "metadata": {
        "id": "GiJjCEyCEoc5",
        "colab_type": "code",
        "colab": {
          "base_uri": "https://localhost:8080/",
          "height": 124
        },
        "outputId": "4c3a7f14-81b3-40f9-9503-5f1e80d2ce62"
      },
      "cell_type": "code",
      "source": [
        "predictions = regressor.predict(input_fn=my_input_fn(prediction_set, num_epochs=1, shuffle=False))\n",
        "\n",
        "for prediction in predictions:\n",
        "    print(\"Prediction {}\".format(prediction))"
      ],
      "execution_count": 18,
      "outputs": [
        {
          "output_type": "stream",
          "text": [
            "Prediction {'predictions': array([35.5695], dtype=float32)}\n",
            "Prediction {'predictions': array([18.927225], dtype=float32)}\n",
            "Prediction {'predictions': array([24.989763], dtype=float32)}\n",
            "Prediction {'predictions': array([36.304363], dtype=float32)}\n",
            "Prediction {'predictions': array([17.109018], dtype=float32)}\n",
            "Prediction {'predictions': array([19.793098], dtype=float32)}\n"
          ],
          "name": "stdout"
        }
      ]
    }
  ]
}