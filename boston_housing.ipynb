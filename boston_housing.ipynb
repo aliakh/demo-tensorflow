{
  "nbformat": 4,
  "nbformat_minor": 0,
  "metadata": {
    "colab": {
      "name": "boston_housing.ipynb",
      "version": "0.3.2",
      "provenance": [],
      "collapsed_sections": []
    }
  },
  "cells": [
    {
      "metadata": {
        "id": "eV16J6oUY-HN",
        "colab_type": "text"
      },
      "cell_type": "markdown",
      "source": [
        "# Boston Housing Dataset"
      ]
    },
    {
      "metadata": {
        "id": "J2kqX6VZTHUy",
        "colab_type": "text"
      },
      "cell_type": "markdown",
      "source": [
        "## Setup\n"
      ]
    },
    {
      "metadata": {
        "id": "AGOM1TUiKNdz",
        "colab_type": "code",
        "colab": {
          "base_uri": "https://localhost:8080/",
          "height": 230
        },
        "outputId": "c3fcd68f-ce93-423e-9014-aa9771a52b49"
      },
      "cell_type": "code",
      "source": [
        "from __future__ import absolute_import\n",
        "from __future__ import division\n",
        "from __future__ import print_function\n",
        "\n",
        "import itertools\n",
        "\n",
        "import pandas as pd\n",
        "import tensorflow as tf\n",
        "\n",
        "tf.logging.set_verbosity(tf.logging.ERROR)\n",
        "\n",
        "COLUMNS = [\"crim\", \"zn\", \"indus\", \"nox\", \"rm\", \"age\", \"dis\", \"tax\", \"ptratio\", \"medv\"]\n",
        "#FEATURES = [\"crim\", \"zn\", \"indus\", \"nox\", \"rm\", \"age\", \"dis\", \"tax\", \"ptratio\"]\n",
        "#LABEL = \"medv\"\n",
        "\n",
        "FEATURES = COLUMNS[:-1]\n",
        "LABEL = COLUMNS[-1]\n",
        "\n",
        "print(\"Features: {}\".format(FEATURES))\n",
        "print(\"Label: {}\".format(LABEL))\n",
        "\n",
        "def get_input_fn(data_set, num_epochs=None, shuffle=True):\n",
        "  return tf.estimator.inputs.pandas_input_fn(\n",
        "      x=pd.DataFrame({k: data_set[k].values for k in FEATURES}),\n",
        "      y=pd.Series(data_set[LABEL].values),\n",
        "      num_epochs=num_epochs,\n",
        "      shuffle=shuffle)\n",
        "\n",
        "url_prefix = \"https://raw.githubusercontent.com/tensorflow/tensorflow/master/tensorflow/examples/tutorials/input_fn/\"\n",
        "\n",
        "training_set = pd.read_csv(\n",
        "    url_prefix+\"boston_train.csv\", \n",
        "    skipinitialspace=True,\n",
        "    skiprows=1, \n",
        "    names=COLUMNS)\n",
        "\n",
        "test_set = pd.read_csv(\n",
        "    url_prefix+\"boston_test.csv\", \n",
        "    skipinitialspace=True,\n",
        "    skiprows=1, \n",
        "    names=COLUMNS)\n",
        "\n",
        "prediction_set = pd.read_csv(\n",
        "    url_prefix+\"boston_predict.csv\", \n",
        "    skipinitialspace=True,\n",
        "    skiprows=1, \n",
        "    names=COLUMNS)\n",
        "\n",
        "feature_cols = [tf.feature_column.numeric_column(k) for k in FEATURES]\n",
        "\n",
        "regressor = tf.estimator.DNNRegressor(\n",
        "    feature_columns=feature_cols,\n",
        "    hidden_units=[10, 10],\n",
        "    model_dir=\"/tmp/boston_housing\")\n",
        "\n",
        "regressor.train(input_fn=get_input_fn(training_set), steps=5000)\n",
        "\n",
        "evaluation = regressor.evaluate(\n",
        "    input_fn=get_input_fn(test_set, num_epochs=1, shuffle=False))\n",
        "\n",
        "print(\"Evaluation: {}\".format(evaluation))\n",
        "\n",
        "loss = evaluation[\"loss\"]\n",
        "print(\"Loss: {0:f}\".format(loss))\n",
        "\n",
        "y = regressor.predict(\n",
        "    input_fn=get_input_fn(prediction_set, num_epochs=1, shuffle=False))\n",
        "\n",
        "print(\"predict: {}\".format(y))\n",
        "\n",
        "for yy in y:\n",
        "  print(\"Prediction {}\".format(yy))\n",
        "  \n",
        "# .predict() returns an iterator of dicts; convert to a list and print\n",
        "# predictions\n",
        "predictions = list(p[\"predictions\"] for p in itertools.islice(y, 6))\n",
        "print(\"Predictions: {}\".format(str(predictions)))\n"
      ],
      "execution_count": 0,
      "outputs": [
        {
          "output_type": "stream",
          "text": [
            "Features: ['crim', 'zn', 'indus', 'nox', 'rm', 'age', 'dis', 'tax', 'ptratio']\n",
            "Label: medv\n",
            "Evaluation: {'average_loss': 11.506675, 'global_step': 15000, 'loss': 1150.6675}\n",
            "Loss: 1150.667480\n",
            "predict: <generator object predict at 0x7f27780737d0>\n",
            "Prediction {'predictions': array([33.473564], dtype=float32)}\n",
            "Prediction {'predictions': array([17.696209], dtype=float32)}\n",
            "Prediction {'predictions': array([23.382742], dtype=float32)}\n",
            "Prediction {'predictions': array([35.1132], dtype=float32)}\n",
            "Prediction {'predictions': array([14.393742], dtype=float32)}\n",
            "Prediction {'predictions': array([18.381556], dtype=float32)}\n",
            "Predictions: []\n"
          ],
          "name": "stdout"
        }
      ]
    }
  ]
}