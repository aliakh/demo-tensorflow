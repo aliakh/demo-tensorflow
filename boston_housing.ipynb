{
  "nbformat": 4,
  "nbformat_minor": 0,
  "metadata": {
    "colab": {
      "name": "boston_housing.ipynb",
      "version": "0.3.2",
      "provenance": [],
      "collapsed_sections": []
    }
  },
  "cells": [
    {
      "metadata": {
        "id": "eV16J6oUY-HN",
        "colab_type": "text"
      },
      "cell_type": "markdown",
      "source": [
        "# Boston Housing Dataset"
      ]
    },
    {
      "metadata": {
        "id": "AGOM1TUiKNdz",
        "colab_type": "code",
        "colab": {}
      },
      "cell_type": "code",
      "source": [
        "from __future__ import absolute_import\n",
        "from __future__ import division\n",
        "from __future__ import print_function\n",
        "\n",
        "import pandas as pd\n",
        "import tensorflow as tf\n",
        "\n",
        "tf.logging.set_verbosity(tf.logging.ERROR)"
      ],
      "execution_count": 0,
      "outputs": []
    },
    {
      "metadata": {
        "id": "Q4BcMVUEo3AD",
        "colab_type": "text"
      },
      "cell_type": "markdown",
      "source": [
        "1.\tCRIM - per capita crime rate by town\n",
        "2.\tZN - proportion of residential land zoned for lots over 25,000 sq.ft.\n",
        "3.\tINDUS - proportion of non-retail business acres per town.\n",
        "4.\tCHAS - Charles River dummy variable (1 if tract bounds river; 0 otherwise)\n",
        "5.\tNOX - nitric oxides concentration (parts per 10 million)\n",
        "6.\tRM - average number of rooms per dwelling\n",
        "7.\tAGE - proportion of owner-occupied units built prior to 1940\n",
        "8.\tDIS - weighted distances to five Boston employment centres\n",
        "9.\tRAD - index of accessibility to radial highways\n",
        "10.\tTAX - full-value property-tax rate per $10,000\n",
        "11.\tPTRATIO - pupil-teacher ratio by town\n",
        "12.\tB - 1000(Bk - 0.63)^2 where Bk is the proportion of blacks by town\n",
        "13.\tLSTAT - % lower status of the population\n",
        "14.\tMEDV - Median value of owner-occupied homes in $1000's\n",
        "\n"
      ]
    },
    {
      "metadata": {
        "id": "ba-KzK5hE7BI",
        "colab_type": "code",
        "colab": {}
      },
      "cell_type": "code",
      "source": [
        "COLUMNS = [\"crim\", \"zn\", \"indus\", \"nox\", \"rm\", \"age\", \"dis\", \"tax\", \"ptratio\", \"medv\"]\n",
        "#FEATURES = [\"crim\", \"zn\", \"indus\", \"nox\", \"rm\", \"age\", \"dis\", \"tax\", \"ptratio\"]\n",
        "#LABEL = \"medv\"\n",
        "\n",
        "FEATURES = COLUMNS[:-1]\n",
        "LABEL = COLUMNS[-1]\n",
        "\n",
        "print(\"Features: {}\".format(FEATURES))\n",
        "print(\"Label: {}\".format(LABEL))"
      ],
      "execution_count": 0,
      "outputs": []
    },
    {
      "metadata": {
        "id": "ZumkpXFUE5Ip",
        "colab_type": "code",
        "colab": {}
      },
      "cell_type": "code",
      "source": [
        "def get_input_fn(data_set, num_epochs=None, shuffle=True):\n",
        "  return tf.estimator.inputs.pandas_input_fn(\n",
        "      x=pd.DataFrame({feature: data_set[feature].values for feature in FEATURES}),\n",
        "      y=pd.Series(data_set[LABEL].values),\n",
        "      num_epochs=num_epochs,\n",
        "      shuffle=shuffle)"
      ],
      "execution_count": 0,
      "outputs": []
    },
    {
      "metadata": {
        "id": "AzTn5EZ_E3Vx",
        "colab_type": "code",
        "colab": {}
      },
      "cell_type": "code",
      "source": [
        "URL_PREFIX = \"https://raw.githubusercontent.com/tensorflow/tensorflow/master/tensorflow/examples/tutorials/input_fn/\"\n",
        "\n",
        "training_set = pd.read_csv(\n",
        "    URL_PREFIX+\"boston_train.csv\", \n",
        "    skipinitialspace=True,\n",
        "    skiprows=1, \n",
        "    names=COLUMNS)\n",
        "\n",
        "test_set = pd.read_csv(\n",
        "    URL_PREFIX+\"boston_test.csv\", \n",
        "    skipinitialspace=True,\n",
        "    skiprows=1, \n",
        "    names=COLUMNS)\n",
        "\n",
        "prediction_set = pd.read_csv(\n",
        "    URL_PREFIX+\"boston_predict.csv\", \n",
        "    skipinitialspace=True,\n",
        "    skiprows=1, \n",
        "    names=COLUMNS)"
      ],
      "execution_count": 0,
      "outputs": []
    },
    {
      "metadata": {
        "id": "TECIh6OLEzrY",
        "colab_type": "code",
        "colab": {}
      },
      "cell_type": "code",
      "source": [
        "feature_columns = [tf.feature_column.numeric_column(feature) for feature in FEATURES]"
      ],
      "execution_count": 0,
      "outputs": []
    },
    {
      "metadata": {
        "id": "k6tgw1VpExmR",
        "colab_type": "code",
        "colab": {}
      },
      "cell_type": "code",
      "source": [
        "regressor = tf.estimator.DNNRegressor(\n",
        "    feature_columns=feature_columns,\n",
        "    hidden_units=[10, 10],\n",
        "    model_dir=\"/tmp/boston_housing\")"
      ],
      "execution_count": 0,
      "outputs": []
    },
    {
      "metadata": {
        "id": "i0PcytLEHIGZ",
        "colab_type": "code",
        "colab": {}
      },
      "cell_type": "code",
      "source": [
        "regressor.train(\n",
        "    input_fn=get_input_fn(training_set), steps=5000)"
      ],
      "execution_count": 0,
      "outputs": []
    },
    {
      "metadata": {
        "id": "fw2mlmwuEs2R",
        "colab_type": "code",
        "colab": {}
      },
      "cell_type": "code",
      "source": [
        "evaluation = regressor.evaluate(\n",
        "    input_fn=get_input_fn(test_set, num_epochs=1, shuffle=False))\n",
        "\n",
        "print(\"Evaluation: {}\".format(evaluation))\n",
        "\n",
        "loss = evaluation[\"loss\"]\n",
        "print(\"Loss: {0:f}\".format(loss))"
      ],
      "execution_count": 0,
      "outputs": []
    },
    {
      "metadata": {
        "id": "GiJjCEyCEoc5",
        "colab_type": "code",
        "colab": {}
      },
      "cell_type": "code",
      "source": [
        "predictions = regressor.predict(\n",
        "    input_fn=get_input_fn(prediction_set, num_epochs=1, shuffle=False))\n",
        "\n",
        "for prediction in predictions:\n",
        "  print(\"Prediction {}\".format(prediction))"
      ],
      "execution_count": 0,
      "outputs": []
    }
  ]
}