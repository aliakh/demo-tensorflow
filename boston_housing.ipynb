{
  "nbformat": 4,
  "nbformat_minor": 0,
  "metadata": {
    "colab": {
      "name": "boston_housing.ipynb",
      "version": "0.3.2",
      "provenance": [],
      "collapsed_sections": []
    }
  },
  "cells": [
    {
      "metadata": {
        "id": "eV16J6oUY-HN",
        "colab_type": "text"
      },
      "cell_type": "markdown",
      "source": [
        "# Boston Housing Dataset"
      ]
    },
    {
      "metadata": {
        "id": "AGOM1TUiKNdz",
        "colab_type": "code",
        "colab": {}
      },
      "cell_type": "code",
      "source": [
        "from __future__ import absolute_import\n",
        "from __future__ import division\n",
        "from __future__ import print_function\n",
        "\n",
        "import pandas as pd\n",
        "import tensorflow as tf\n",
        "\n",
        "tf.logging.set_verbosity(tf.logging.ERROR)"
      ],
      "execution_count": 0,
      "outputs": []
    },
    {
      "metadata": {
        "id": "ba-KzK5hE7BI",
        "colab_type": "code",
        "colab": {
          "base_uri": "https://localhost:8080/",
          "height": 52
        },
        "outputId": "136a4c89-92f8-4e68-c165-dd7c57024610"
      },
      "cell_type": "code",
      "source": [
        "COLUMNS = [\"crim\", \"zn\", \"indus\", \"nox\", \"rm\", \"age\", \"dis\", \"tax\", \"ptratio\", \"medv\"]\n",
        "#FEATURES = [\"crim\", \"zn\", \"indus\", \"nox\", \"rm\", \"age\", \"dis\", \"tax\", \"ptratio\"]\n",
        "#LABEL = \"medv\"\n",
        "\n",
        "FEATURES = COLUMNS[:-1]\n",
        "LABEL = COLUMNS[-1]\n",
        "\n",
        "print(\"Features: {}\".format(FEATURES))\n",
        "print(\"Label: {}\".format(LABEL))"
      ],
      "execution_count": 2,
      "outputs": [
        {
          "output_type": "stream",
          "text": [
            "Features: ['crim', 'zn', 'indus', 'nox', 'rm', 'age', 'dis', 'tax', 'ptratio']\n",
            "Label: medv\n"
          ],
          "name": "stdout"
        }
      ]
    },
    {
      "metadata": {
        "id": "ZumkpXFUE5Ip",
        "colab_type": "code",
        "colab": {}
      },
      "cell_type": "code",
      "source": [
        "def get_input_fn(data_set, num_epochs=None, shuffle=True):\n",
        "  return tf.estimator.inputs.pandas_input_fn(\n",
        "      x=pd.DataFrame({feature: data_set[feature].values for feature in FEATURES}),\n",
        "      y=pd.Series(data_set[LABEL].values),\n",
        "      num_epochs=num_epochs,\n",
        "      shuffle=shuffle)"
      ],
      "execution_count": 0,
      "outputs": []
    },
    {
      "metadata": {
        "id": "AzTn5EZ_E3Vx",
        "colab_type": "code",
        "colab": {}
      },
      "cell_type": "code",
      "source": [
        "URL_PREFIX = \"https://raw.githubusercontent.com/tensorflow/tensorflow/master/tensorflow/examples/tutorials/input_fn/\"\n",
        "\n",
        "training_set = pd.read_csv(\n",
        "    URL_PREFIX+\"boston_train.csv\", \n",
        "    skipinitialspace=True,\n",
        "    skiprows=1, \n",
        "    names=COLUMNS)\n",
        "\n",
        "test_set = pd.read_csv(\n",
        "    URL_PREFIX+\"boston_test.csv\", \n",
        "    skipinitialspace=True,\n",
        "    skiprows=1, \n",
        "    names=COLUMNS)\n",
        "\n",
        "prediction_set = pd.read_csv(\n",
        "    URL_PREFIX+\"boston_predict.csv\", \n",
        "    skipinitialspace=True,\n",
        "    skiprows=1, \n",
        "    names=COLUMNS)"
      ],
      "execution_count": 0,
      "outputs": []
    },
    {
      "metadata": {
        "id": "TECIh6OLEzrY",
        "colab_type": "code",
        "colab": {}
      },
      "cell_type": "code",
      "source": [
        "feature_columns = [tf.feature_column.numeric_column(feature) for feature in FEATURES]"
      ],
      "execution_count": 0,
      "outputs": []
    },
    {
      "metadata": {
        "id": "k6tgw1VpExmR",
        "colab_type": "code",
        "colab": {}
      },
      "cell_type": "code",
      "source": [
        "regressor = tf.estimator.DNNRegressor(\n",
        "    feature_columns=feature_columns,\n",
        "    hidden_units=[10, 10],\n",
        "    model_dir=\"/tmp/boston_housing\")"
      ],
      "execution_count": 0,
      "outputs": []
    },
    {
      "metadata": {
        "id": "i0PcytLEHIGZ",
        "colab_type": "code",
        "colab": {
          "base_uri": "https://localhost:8080/",
          "height": 35
        },
        "outputId": "a0b72e94-23bc-4230-d222-acda9f9d4da6"
      },
      "cell_type": "code",
      "source": [
        "regressor.train(\n",
        "    input_fn=get_input_fn(training_set), steps=5000)"
      ],
      "execution_count": 7,
      "outputs": [
        {
          "output_type": "execute_result",
          "data": {
            "text/plain": [
              "<tensorflow.python.estimator.canned.dnn.DNNRegressor at 0x7f10acd4e350>"
            ]
          },
          "metadata": {
            "tags": []
          },
          "execution_count": 7
        }
      ]
    },
    {
      "metadata": {
        "id": "fw2mlmwuEs2R",
        "colab_type": "code",
        "colab": {
          "base_uri": "https://localhost:8080/",
          "height": 52
        },
        "outputId": "44a3f545-25ec-4a99-ea64-959dd65ac0d3"
      },
      "cell_type": "code",
      "source": [
        "evaluation = regressor.evaluate(\n",
        "    input_fn=get_input_fn(test_set, num_epochs=1, shuffle=False))\n",
        "\n",
        "print(\"Evaluation: {}\".format(evaluation))\n",
        "\n",
        "loss = evaluation[\"loss\"]\n",
        "print(\"Loss: {0:f}\".format(loss))"
      ],
      "execution_count": 8,
      "outputs": [
        {
          "output_type": "stream",
          "text": [
            "Evaluation: {'average_loss': 12.116672, 'global_step': 40000, 'loss': 1211.6671}\n",
            "Loss: 1211.667114\n"
          ],
          "name": "stdout"
        }
      ]
    },
    {
      "metadata": {
        "id": "GiJjCEyCEoc5",
        "colab_type": "code",
        "colab": {
          "base_uri": "https://localhost:8080/",
          "height": 124
        },
        "outputId": "13a3724b-f5ee-4fc8-d1e5-b12ae320cca2"
      },
      "cell_type": "code",
      "source": [
        "predictions = regressor.predict(\n",
        "    input_fn=get_input_fn(prediction_set, num_epochs=1, shuffle=False))\n",
        "\n",
        "for prediction in predictions:\n",
        "  print(\"Prediction {}\".format(prediction))"
      ],
      "execution_count": 9,
      "outputs": [
        {
          "output_type": "stream",
          "text": [
            "Prediction {'predictions': array([33.504227], dtype=float32)}\n",
            "Prediction {'predictions': array([18.209541], dtype=float32)}\n",
            "Prediction {'predictions': array([24.138863], dtype=float32)}\n",
            "Prediction {'predictions': array([35.248013], dtype=float32)}\n",
            "Prediction {'predictions': array([15.631312], dtype=float32)}\n",
            "Prediction {'predictions': array([18.875854], dtype=float32)}\n"
          ],
          "name": "stdout"
        }
      ]
    }
  ]
}